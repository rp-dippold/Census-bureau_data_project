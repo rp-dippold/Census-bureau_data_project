{
 "cells": [
  {
   "cell_type": "code",
   "execution_count": 1,
   "id": "dc91d0d9-dc3a-4c65-8666-e9e62790a798",
   "metadata": {},
   "outputs": [],
   "source": [
    "import pandas as pd"
   ]
  },
  {
   "cell_type": "markdown",
   "id": "fc3cb0fc-4d2f-4f44-9a31-197a628fec0d",
   "metadata": {},
   "source": [
    "### Read census data from data directory"
   ]
  },
  {
   "cell_type": "code",
   "execution_count": 2,
   "id": "af5e60d9-a43b-4a87-91fe-d1f38d726b3a",
   "metadata": {},
   "outputs": [],
   "source": [
    "df = pd.read_csv('./data/census.csv', header=0, index_col=False)"
   ]
  },
  {
   "cell_type": "markdown",
   "id": "c3750f15-4923-400b-b86f-981acbab1d26",
   "metadata": {},
   "source": [
    "### Have a look at the data"
   ]
  },
  {
   "cell_type": "markdown",
   "id": "43133be1-5252-43c7-a8bd-00c99c3353b6",
   "metadata": {},
   "source": [
    "### Get information about the dataframe's dtypes, missing values, column names"
   ]
  },
  {
   "cell_type": "code",
   "execution_count": 3,
   "id": "ca90cc6d-f5a4-40cc-aff9-fdb98095735b",
   "metadata": {},
   "outputs": [
    {
     "name": "stdout",
     "output_type": "stream",
     "text": [
      "<class 'pandas.core.frame.DataFrame'>\n",
      "RangeIndex: 32561 entries, 0 to 32560\n",
      "Data columns (total 15 columns):\n",
      " #   Column           Non-Null Count  Dtype \n",
      "---  ------           --------------  ----- \n",
      " 0   age              32561 non-null  int64 \n",
      " 1    workclass       32561 non-null  object\n",
      " 2    fnlgt           32561 non-null  int64 \n",
      " 3    education       32561 non-null  object\n",
      " 4    education-num   32561 non-null  int64 \n",
      " 5    marital-status  32561 non-null  object\n",
      " 6    occupation      32561 non-null  object\n",
      " 7    relationship    32561 non-null  object\n",
      " 8    race            32561 non-null  object\n",
      " 9    sex             32561 non-null  object\n",
      " 10   capital-gain    32561 non-null  int64 \n",
      " 11   capital-loss    32561 non-null  int64 \n",
      " 12   hours-per-week  32561 non-null  int64 \n",
      " 13   native-country  32561 non-null  object\n",
      " 14   salary          32561 non-null  object\n",
      "dtypes: int64(6), object(9)\n",
      "memory usage: 3.7+ MB\n"
     ]
    }
   ],
   "source": [
    "df.info()"
   ]
  },
  {
   "cell_type": "raw",
   "id": "03ddc719-aba3-42b4-b08d-595e579ea32f",
   "metadata": {},
   "source": [
    "Result: No missing values; some numerical and non-numerical data (columns); column names contain white spaces"
   ]
  },
  {
   "cell_type": "markdown",
   "id": "f72838f0-83ad-43d7-b22f-850ed14bb2eb",
   "metadata": {},
   "source": [
    "### Remove white spaces from the column names"
   ]
  },
  {
   "cell_type": "code",
   "execution_count": 4,
   "id": "c00c33c2-ceaa-4c47-b6b3-a39a17ae0ebb",
   "metadata": {},
   "outputs": [
    {
     "data": {
      "text/plain": [
       "Index(['age', ' workclass', ' fnlgt', ' education', ' education-num',\n",
       "       ' marital-status', ' occupation', ' relationship', ' race', ' sex',\n",
       "       ' capital-gain', ' capital-loss', ' hours-per-week', ' native-country',\n",
       "       ' salary'],\n",
       "      dtype='object')"
      ]
     },
     "execution_count": 4,
     "metadata": {},
     "output_type": "execute_result"
    }
   ],
   "source": [
    "# column names before stripping white spaces\n",
    "df.columns"
   ]
  },
  {
   "cell_type": "code",
   "execution_count": 5,
   "id": "d7ac69d7-52ab-4e50-922b-b4d22f522502",
   "metadata": {},
   "outputs": [],
   "source": [
    "df.columns = [col.strip() for col in df.columns]"
   ]
  },
  {
   "cell_type": "code",
   "execution_count": 6,
   "id": "d96612a2-954b-4184-95bd-8b07c5804414",
   "metadata": {},
   "outputs": [
    {
     "data": {
      "text/plain": [
       "Index(['age', 'workclass', 'fnlgt', 'education', 'education-num',\n",
       "       'marital-status', 'occupation', 'relationship', 'race', 'sex',\n",
       "       'capital-gain', 'capital-loss', 'hours-per-week', 'native-country',\n",
       "       'salary'],\n",
       "      dtype='object')"
      ]
     },
     "execution_count": 6,
     "metadata": {},
     "output_type": "execute_result"
    }
   ],
   "source": [
    "# column names after stripping white spaces\n",
    "df.columns"
   ]
  },
  {
   "cell_type": "markdown",
   "id": "2139c60f-7578-4edc-873e-6945e21c1c7a",
   "metadata": {},
   "source": [
    "### Check if there are string data in the table containing white spacse and if yes, remove them."
   ]
  },
  {
   "cell_type": "code",
   "execution_count": 7,
   "id": "21ed862f-ab52-4124-9817-8e8be84c32f7",
   "metadata": {},
   "outputs": [
    {
     "data": {
      "text/plain": [
       "workclass         True\n",
       "education         True\n",
       "marital-status    True\n",
       "occupation        True\n",
       "relationship      True\n",
       "race              True\n",
       "sex               True\n",
       "native-country    True\n",
       "salary            True\n",
       "dtype: bool"
      ]
     },
     "execution_count": 7,
     "metadata": {},
     "output_type": "execute_result"
    }
   ],
   "source": [
    "df.select_dtypes(include = 'object').apply(lambda s: (s.str.startswith(' ') | s.str.endswith(' '))).any()"
   ]
  },
  {
   "cell_type": "raw",
   "id": "e5a892f2-4cf7-477b-bb38-b8473e2b434b",
   "metadata": {},
   "source": [
    "Result: There are leading and trailing white spaces in every column containing string values."
   ]
  },
  {
   "cell_type": "code",
   "execution_count": 8,
   "id": "15a5c2d0-0833-44bd-a1d6-aae143344bac",
   "metadata": {},
   "outputs": [],
   "source": [
    "# Remove white spaces\n",
    "df[df.select_dtypes(include='object').columns] = df.select_dtypes(include = 'object').apply(lambda s: s.str.strip())"
   ]
  },
  {
   "cell_type": "code",
   "execution_count": 9,
   "id": "61eceaaa-4107-4ae3-85cb-39bd0c7632d6",
   "metadata": {},
   "outputs": [
    {
     "data": {
      "text/plain": [
       "workclass         False\n",
       "education         False\n",
       "marital-status    False\n",
       "occupation        False\n",
       "relationship      False\n",
       "race              False\n",
       "sex               False\n",
       "native-country    False\n",
       "salary            False\n",
       "dtype: bool"
      ]
     },
     "execution_count": 9,
     "metadata": {},
     "output_type": "execute_result"
    }
   ],
   "source": [
    "# Check result\n",
    "df.select_dtypes(include = 'object').apply(lambda s: (s.str.startswith(' ') | s.str.endswith(' '))).any()"
   ]
  },
  {
   "cell_type": "markdown",
   "id": "c13f24ec-81a2-44f9-8cb6-c85b5aaa8bd6",
   "metadata": {},
   "source": [
    "### Store cleaned data"
   ]
  },
  {
   "cell_type": "code",
   "execution_count": 10,
   "id": "5e99ef4b-14e0-448a-b22c-68d2eae76cbf",
   "metadata": {},
   "outputs": [],
   "source": [
    "# We store the cleaned data including an index column as these values are taken \n",
    "# as reference to slice data (see model.py)\n",
    "df.to_csv('./data/census_cleaned.csv', index=True, index_label='index')"
   ]
  }
 ],
 "metadata": {
  "kernelspec": {
   "display_name": "Python 3 (ipykernel)",
   "language": "python",
   "name": "python3"
  },
  "language_info": {
   "codemirror_mode": {
    "name": "ipython",
    "version": 3
   },
   "file_extension": ".py",
   "mimetype": "text/x-python",
   "name": "python",
   "nbconvert_exporter": "python",
   "pygments_lexer": "ipython3",
   "version": "3.8.13"
  }
 },
 "nbformat": 4,
 "nbformat_minor": 5
}
